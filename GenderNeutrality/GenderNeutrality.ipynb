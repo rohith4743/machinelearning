{
  "nbformat": 4,
  "nbformat_minor": 0,
  "metadata": {
    "colab": {
      "name": "GenderNeutrality.ipynb",
      "provenance": [],
      "authorship_tag": "ABX9TyPh3MVtJTaqmnxY66h0tQKj",
      "include_colab_link": true
    },
    "kernelspec": {
      "name": "python3",
      "display_name": "Python 3"
    },
    "language_info": {
      "name": "python"
    }
  },
  "cells": [
    {
      "cell_type": "markdown",
      "metadata": {
        "id": "view-in-github",
        "colab_type": "text"
      },
      "source": [
        "<a href=\"https://colab.research.google.com/github/rohith4743/machinelearning/blob/main/GenderNeutrality/GenderNeutrality.ipynb\" target=\"_parent\"><img src=\"https://colab.research.google.com/assets/colab-badge.svg\" alt=\"Open In Colab\"/></a>"
      ]
    },
    {
      "cell_type": "code",
      "metadata": {
        "colab": {
          "base_uri": "https://localhost:8080/"
        },
        "id": "aSzxRHUei34a",
        "outputId": "2cf3b236-0c9f-47f4-ce75-2a9183f5d5fc"
      },
      "source": [
        "!git clone https://github.com/rohith4743/machinelearning.git\n",
        "!mv machinelearning/GenderNeutrality/0753aae4bec411eb.zip 0753aae4bec411eb.zip\n",
        "!rm -r machinelearning\n",
        "!unzip 0753aae4bec411eb.zip\n",
        "!rm 0753aae4bec411eb.zip"
      ],
      "execution_count": 1,
      "outputs": [
        {
          "output_type": "stream",
          "text": [
            "Cloning into 'machinelearning'...\n",
            "remote: Enumerating objects: 2046, done.\u001b[K\n",
            "remote: Counting objects: 100% (8/8), done.\u001b[K\n",
            "remote: Compressing objects: 100% (8/8), done.\u001b[K\n",
            "remote: Total 2046 (delta 0), reused 0 (delta 0), pack-reused 2038\u001b[K\n",
            "Receiving objects: 100% (2046/2046), 107.25 MiB | 37.43 MiB/s, done.\n",
            "Resolving deltas: 100% (35/35), done.\n",
            "Archive:  0753aae4bec411eb.zip\n",
            "  inflating: sample submission.csv   \n",
            "  inflating: Test.csv                \n",
            "  inflating: Train.csv               \n"
          ],
          "name": "stdout"
        }
      ]
    },
    {
      "cell_type": "code",
      "metadata": {
        "id": "eEUVVnmTj7Jg"
      },
      "source": [
        "import pandas as pd\n",
        "import numpy as np\n",
        "import tensorflow as tf\n",
        "import matplotlib.pyplot as plt"
      ],
      "execution_count": 2,
      "outputs": []
    },
    {
      "cell_type": "code",
      "metadata": {
        "id": "feUfgVQ7dk3l",
        "outputId": "6d74b920-d929-4868-cf52-d7217a214e6d",
        "colab": {
          "base_uri": "https://localhost:8080/",
          "height": 288
        }
      },
      "source": [
        "train_csv = pd.read_csv(\"Train.csv\")\n",
        "train_csv.head()"
      ],
      "execution_count": 29,
      "outputs": [
        {
          "output_type": "execute_result",
          "data": {
            "text/html": [
              "<div>\n",
              "<style scoped>\n",
              "    .dataframe tbody tr th:only-of-type {\n",
              "        vertical-align: middle;\n",
              "    }\n",
              "\n",
              "    .dataframe tbody tr th {\n",
              "        vertical-align: top;\n",
              "    }\n",
              "\n",
              "    .dataframe thead th {\n",
              "        text-align: right;\n",
              "    }\n",
              "</style>\n",
              "<table border=\"1\" class=\"dataframe\">\n",
              "  <thead>\n",
              "    <tr style=\"text-align: right;\">\n",
              "      <th></th>\n",
              "      <th>EmpID</th>\n",
              "      <th>EmpName</th>\n",
              "      <th>LanguageOfCommunication</th>\n",
              "      <th>Age</th>\n",
              "      <th>Gender</th>\n",
              "      <th>JobProfileIDApplyingFor</th>\n",
              "      <th>HighestDegree</th>\n",
              "      <th>DegreeBranch</th>\n",
              "      <th>GraduatingInstitute</th>\n",
              "      <th>LatestDegreeCGPA</th>\n",
              "      <th>YearsOfExperince</th>\n",
              "      <th>GraduationYear</th>\n",
              "      <th>CurrentCTC</th>\n",
              "      <th>ExpectedCTC</th>\n",
              "      <th>MartialStatus</th>\n",
              "      <th>EmpScore</th>\n",
              "      <th>CurrentDesignation</th>\n",
              "      <th>CurrentCompanyType</th>\n",
              "      <th>DepartmentInCompany</th>\n",
              "      <th>TotalLeavesTaken</th>\n",
              "      <th>BiasInfluentialFactor</th>\n",
              "      <th>FitmentPercent</th>\n",
              "    </tr>\n",
              "  </thead>\n",
              "  <tbody>\n",
              "    <tr>\n",
              "      <th>0</th>\n",
              "      <td>11041</td>\n",
              "      <td>John</td>\n",
              "      <td>English</td>\n",
              "      <td>35</td>\n",
              "      <td>Male</td>\n",
              "      <td>JR85289</td>\n",
              "      <td>B.Tech</td>\n",
              "      <td>Electrical</td>\n",
              "      <td>Tier 1</td>\n",
              "      <td>7</td>\n",
              "      <td>12</td>\n",
              "      <td>2009</td>\n",
              "      <td>21</td>\n",
              "      <td>26</td>\n",
              "      <td>Married</td>\n",
              "      <td>5</td>\n",
              "      <td>SSE</td>\n",
              "      <td>Enterprise</td>\n",
              "      <td>Design</td>\n",
              "      <td>20</td>\n",
              "      <td>YearsOfExperince</td>\n",
              "      <td>95.40</td>\n",
              "    </tr>\n",
              "    <tr>\n",
              "      <th>1</th>\n",
              "      <td>15079</td>\n",
              "      <td>William</td>\n",
              "      <td>English</td>\n",
              "      <td>26</td>\n",
              "      <td>Male</td>\n",
              "      <td>JR87525</td>\n",
              "      <td>B.Tech</td>\n",
              "      <td>Artificial Intelligence</td>\n",
              "      <td>Tier 3</td>\n",
              "      <td>7</td>\n",
              "      <td>3</td>\n",
              "      <td>2018</td>\n",
              "      <td>15</td>\n",
              "      <td>19</td>\n",
              "      <td>Married</td>\n",
              "      <td>5</td>\n",
              "      <td>BA</td>\n",
              "      <td>MidSized</td>\n",
              "      <td>Engineering</td>\n",
              "      <td>6</td>\n",
              "      <td>NaN</td>\n",
              "      <td>67.09</td>\n",
              "    </tr>\n",
              "    <tr>\n",
              "      <th>2</th>\n",
              "      <td>18638</td>\n",
              "      <td>James</td>\n",
              "      <td>English</td>\n",
              "      <td>36</td>\n",
              "      <td>Female</td>\n",
              "      <td>JR87525</td>\n",
              "      <td>PhD</td>\n",
              "      <td>Computer Science</td>\n",
              "      <td>Tier 1</td>\n",
              "      <td>6</td>\n",
              "      <td>6</td>\n",
              "      <td>2015</td>\n",
              "      <td>15</td>\n",
              "      <td>24</td>\n",
              "      <td>Single</td>\n",
              "      <td>5</td>\n",
              "      <td>SDE</td>\n",
              "      <td>MidSized</td>\n",
              "      <td>Engineering</td>\n",
              "      <td>19</td>\n",
              "      <td>Gender</td>\n",
              "      <td>91.26</td>\n",
              "    </tr>\n",
              "    <tr>\n",
              "      <th>3</th>\n",
              "      <td>3941</td>\n",
              "      <td>Charles</td>\n",
              "      <td>English</td>\n",
              "      <td>29</td>\n",
              "      <td>Female</td>\n",
              "      <td>JR87525</td>\n",
              "      <td>BCA</td>\n",
              "      <td>Information Technology</td>\n",
              "      <td>Tier 2</td>\n",
              "      <td>5</td>\n",
              "      <td>6</td>\n",
              "      <td>2015</td>\n",
              "      <td>16</td>\n",
              "      <td>24</td>\n",
              "      <td>Married</td>\n",
              "      <td>5</td>\n",
              "      <td>SDE</td>\n",
              "      <td>Startup</td>\n",
              "      <td>Product</td>\n",
              "      <td>16</td>\n",
              "      <td>Gender</td>\n",
              "      <td>72.29</td>\n",
              "    </tr>\n",
              "    <tr>\n",
              "      <th>4</th>\n",
              "      <td>5936</td>\n",
              "      <td>George</td>\n",
              "      <td>English</td>\n",
              "      <td>25</td>\n",
              "      <td>Male</td>\n",
              "      <td>JR70175</td>\n",
              "      <td>Dual M.Tech</td>\n",
              "      <td>Computer Science</td>\n",
              "      <td>Tier 3</td>\n",
              "      <td>8</td>\n",
              "      <td>2</td>\n",
              "      <td>2019</td>\n",
              "      <td>24</td>\n",
              "      <td>32</td>\n",
              "      <td>Married</td>\n",
              "      <td>5</td>\n",
              "      <td>SDE</td>\n",
              "      <td>Enterprise</td>\n",
              "      <td>Engineering</td>\n",
              "      <td>10</td>\n",
              "      <td>DegreeBranch</td>\n",
              "      <td>86.34</td>\n",
              "    </tr>\n",
              "  </tbody>\n",
              "</table>\n",
              "</div>"
            ],
            "text/plain": [
              "   EmpID  EmpName  ... BiasInfluentialFactor  FitmentPercent\n",
              "0  11041     John  ...      YearsOfExperince           95.40\n",
              "1  15079  William  ...                   NaN           67.09\n",
              "2  18638    James  ...                Gender           91.26\n",
              "3   3941  Charles  ...                Gender           72.29\n",
              "4   5936   George  ...          DegreeBranch           86.34\n",
              "\n",
              "[5 rows x 22 columns]"
            ]
          },
          "metadata": {
            "tags": []
          },
          "execution_count": 29
        }
      ]
    },
    {
      "cell_type": "code",
      "metadata": {
        "id": "TWgq_BqodxF-",
        "outputId": "000e84d3-2332-48ee-9407-b1aec479b322",
        "colab": {
          "base_uri": "https://localhost:8080/"
        }
      },
      "source": [
        "dataset = train_csv.copy()\n",
        "dataset.pop(\"EmpName\")\n",
        "dataset.pop(\"EmpID\")\n",
        "dataset = pd.get_dummies(dataset, columns=[\"LanguageOfCommunication\" , \"Gender\", \"JobProfileIDApplyingFor\", \"HighestDegree\", \"DegreeBranch\", \"GraduatingInstitute\", \"MartialStatus\", \"CurrentDesignation\", \"CurrentCompanyType\", \"DepartmentInCompany\"])\n",
        "dataset.dtypes"
      ],
      "execution_count": 34,
      "outputs": [
        {
          "output_type": "execute_result",
          "data": {
            "text/plain": [
              "Age                                          int64\n",
              "LatestDegreeCGPA                             int64\n",
              "YearsOfExperince                             int64\n",
              "GraduationYear                               int64\n",
              "CurrentCTC                                   int64\n",
              "ExpectedCTC                                  int64\n",
              "EmpScore                                     int64\n",
              "TotalLeavesTaken                             int64\n",
              "BiasInfluentialFactor                       object\n",
              "FitmentPercent                             float64\n",
              "LanguageOfCommunication_English              uint8\n",
              "LanguageOfCommunication_Hindi                uint8\n",
              "LanguageOfCommunication_Native               uint8\n",
              "Gender_Female                                uint8\n",
              "Gender_Male                                  uint8\n",
              "Gender_Other                                 uint8\n",
              "JobProfileIDApplyingFor_JR70175              uint8\n",
              "JobProfileIDApplyingFor_JR79193              uint8\n",
              "JobProfileIDApplyingFor_JR81165              uint8\n",
              "JobProfileIDApplyingFor_JR85289              uint8\n",
              "JobProfileIDApplyingFor_JR87525              uint8\n",
              "JobProfileIDApplyingFor_JR88654              uint8\n",
              "JobProfileIDApplyingFor_JR88873              uint8\n",
              "JobProfileIDApplyingFor_JR88879              uint8\n",
              "JobProfileIDApplyingFor_JR89890              uint8\n",
              "HighestDegree_B.Tech                         uint8\n",
              "HighestDegree_BCA                            uint8\n",
              "HighestDegree_Dual M.Tech                    uint8\n",
              "HighestDegree_Dual MBA                       uint8\n",
              "HighestDegree_M.Tech                         uint8\n",
              "HighestDegree_MCA                            uint8\n",
              "HighestDegree_MS                             uint8\n",
              "HighestDegree_PhD                            uint8\n",
              "DegreeBranch_Artificial Intelligence         uint8\n",
              "DegreeBranch_Computer Science                uint8\n",
              "DegreeBranch_Electrical                      uint8\n",
              "DegreeBranch_Electrical and Electronics      uint8\n",
              "DegreeBranch_Electronics                     uint8\n",
              "DegreeBranch_Information Technology          uint8\n",
              "GraduatingInstitute_Tier 1                   uint8\n",
              "GraduatingInstitute_Tier 2                   uint8\n",
              "GraduatingInstitute_Tier 3                   uint8\n",
              "MartialStatus_Married                        uint8\n",
              "MartialStatus_Single                         uint8\n",
              "CurrentDesignation_BA                        uint8\n",
              "CurrentDesignation_DA                        uint8\n",
              "CurrentDesignation_DE                        uint8\n",
              "CurrentDesignation_DS                        uint8\n",
              "CurrentDesignation_EM                        uint8\n",
              "CurrentDesignation_SDE                       uint8\n",
              "CurrentDesignation_SEM                       uint8\n",
              "CurrentDesignation_SSE                       uint8\n",
              "CurrentCompanyType_Enterprise                uint8\n",
              "CurrentCompanyType_MidSized                  uint8\n",
              "CurrentCompanyType_Startup                   uint8\n",
              "DepartmentInCompany_Customer Success         uint8\n",
              "DepartmentInCompany_Design                   uint8\n",
              "DepartmentInCompany_Engineering              uint8\n",
              "DepartmentInCompany_Finance                  uint8\n",
              "DepartmentInCompany_Product                  uint8\n",
              "dtype: object"
            ]
          },
          "metadata": {
            "tags": []
          },
          "execution_count": 34
        }
      ]
    },
    {
      "cell_type": "code",
      "metadata": {
        "id": "4gqrq35OfBpy"
      },
      "source": [
        "train_dataset = dataset.sample(frac=0.8, random_state=0)\n",
        "test_dataset = dataset.drop(train_dataset.index)"
      ],
      "execution_count": 35,
      "outputs": []
    },
    {
      "cell_type": "code",
      "metadata": {
        "id": "Ft4y5rkhgBBS"
      },
      "source": [
        "train_features = train_dataset.copy()\n",
        "test_features = test_dataset.copy()\n",
        "\n",
        "train_labels_Filment = train_features.pop('FitmentPercent')\n",
        "test_labels_Filment  = test_features.pop('FitmentPercent')\n",
        "\n",
        "train_labels_BiasInfluence = train_features.pop('BiasInfluentialFactor')\n",
        "test_labels_BiasInfluence = test_features.pop('BiasInfluentialFactor')"
      ],
      "execution_count": 36,
      "outputs": []
    },
    {
      "cell_type": "code",
      "metadata": {
        "id": "OtFzcBI3hDhF"
      },
      "source": [
        "normalizer = tf.keras.layers.experimental.preprocessing.Normalization()\n",
        "normalizer.adapt(train_features)"
      ],
      "execution_count": 37,
      "outputs": []
    },
    {
      "cell_type": "code",
      "metadata": {
        "id": "NQnfXjqShlZW"
      },
      "source": [
        "def plot_loss(history):\n",
        "  plt.plot(history.history['loss'], label='loss')\n",
        "  plt.plot(history.history['val_loss'], label='val_loss')\n",
        "  plt.ylim([0, 200])\n",
        "  plt.xlabel('Epoch')\n",
        "  plt.ylabel('Error [MPG]')\n",
        "  plt.legend()\n",
        "  plt.grid(True)"
      ],
      "execution_count": 48,
      "outputs": []
    },
    {
      "cell_type": "code",
      "metadata": {
        "id": "7g5kPAP5hue8",
        "outputId": "bbd73d7d-12bf-4da6-c37e-32017797f49c",
        "colab": {
          "base_uri": "https://localhost:8080/"
        }
      },
      "source": [
        "model = tf.keras.Sequential([\n",
        "      normalizer,\n",
        "      tf.keras.layers.Dense(64, activation='relu'),\n",
        "      tf.keras.layers.Dense(64, activation='relu'),\n",
        "      tf.keras.layers.Dense(1)\n",
        "  ])\n",
        "model.compile(loss='mean_squared_error', optimizer=tf.keras.optimizers.Adam(0.001))\n",
        "model.summary()"
      ],
      "execution_count": 42,
      "outputs": [
        {
          "output_type": "stream",
          "text": [
            "Model: \"sequential_2\"\n",
            "_________________________________________________________________\n",
            "Layer (type)                 Output Shape              Param #   \n",
            "=================================================================\n",
            "normalization (Normalization (None, 58)                117       \n",
            "_________________________________________________________________\n",
            "dense_6 (Dense)              (None, 64)                3776      \n",
            "_________________________________________________________________\n",
            "dense_7 (Dense)              (None, 64)                4160      \n",
            "_________________________________________________________________\n",
            "dense_8 (Dense)              (None, 1)                 65        \n",
            "=================================================================\n",
            "Total params: 8,118\n",
            "Trainable params: 8,001\n",
            "Non-trainable params: 117\n",
            "_________________________________________________________________\n"
          ],
          "name": "stdout"
        }
      ]
    },
    {
      "cell_type": "code",
      "metadata": {
        "id": "qqlg0235iC3r",
        "outputId": "54d4c459-3c86-4247-b6e3-67ab5f04e02d",
        "colab": {
          "base_uri": "https://localhost:8080/"
        }
      },
      "source": [
        "history = model.fit(train_features, train_labels_Filment, validation_split=0.2, verbose=1, epochs=100)"
      ],
      "execution_count": 44,
      "outputs": [
        {
          "output_type": "stream",
          "text": [
            "Epoch 1/100\n",
            "273/273 [==============================] - 1s 2ms/step - loss: 1866.2007 - val_loss: 161.5786\n",
            "Epoch 2/100\n",
            "273/273 [==============================] - 0s 2ms/step - loss: 162.3518 - val_loss: 142.4009\n",
            "Epoch 3/100\n",
            "273/273 [==============================] - 0s 2ms/step - loss: 141.8017 - val_loss: 130.0803\n",
            "Epoch 4/100\n",
            "273/273 [==============================] - 0s 2ms/step - loss: 127.4310 - val_loss: 121.9179\n",
            "Epoch 5/100\n",
            "273/273 [==============================] - 1s 2ms/step - loss: 117.7987 - val_loss: 116.9828\n",
            "Epoch 6/100\n",
            "273/273 [==============================] - 1s 2ms/step - loss: 111.7853 - val_loss: 113.2983\n",
            "Epoch 7/100\n",
            "273/273 [==============================] - 0s 2ms/step - loss: 107.1180 - val_loss: 111.4764\n",
            "Epoch 8/100\n",
            "273/273 [==============================] - 0s 2ms/step - loss: 104.1287 - val_loss: 110.4511\n",
            "Epoch 9/100\n",
            "273/273 [==============================] - 0s 2ms/step - loss: 101.5150 - val_loss: 110.2776\n",
            "Epoch 10/100\n",
            "273/273 [==============================] - 0s 2ms/step - loss: 99.7778 - val_loss: 109.9678\n",
            "Epoch 11/100\n",
            "273/273 [==============================] - 0s 2ms/step - loss: 97.6799 - val_loss: 110.5794\n",
            "Epoch 12/100\n",
            "273/273 [==============================] - 0s 2ms/step - loss: 96.4869 - val_loss: 110.3817\n",
            "Epoch 13/100\n",
            "273/273 [==============================] - 0s 2ms/step - loss: 94.8679 - val_loss: 109.8499\n",
            "Epoch 14/100\n",
            "273/273 [==============================] - 1s 2ms/step - loss: 93.5504 - val_loss: 109.6775\n",
            "Epoch 15/100\n",
            "273/273 [==============================] - 0s 2ms/step - loss: 92.4437 - val_loss: 112.2269\n",
            "Epoch 16/100\n",
            "273/273 [==============================] - 0s 2ms/step - loss: 91.9976 - val_loss: 108.3386\n",
            "Epoch 17/100\n",
            "273/273 [==============================] - 1s 2ms/step - loss: 90.2884 - val_loss: 110.4878\n",
            "Epoch 18/100\n",
            "273/273 [==============================] - 0s 2ms/step - loss: 89.1865 - val_loss: 108.7292\n",
            "Epoch 19/100\n",
            "273/273 [==============================] - 0s 2ms/step - loss: 87.8904 - val_loss: 111.5497\n",
            "Epoch 20/100\n",
            "273/273 [==============================] - 0s 2ms/step - loss: 86.6777 - val_loss: 111.8290\n",
            "Epoch 21/100\n",
            "273/273 [==============================] - 0s 2ms/step - loss: 85.6840 - val_loss: 110.2852\n",
            "Epoch 22/100\n",
            "273/273 [==============================] - 0s 2ms/step - loss: 84.5637 - val_loss: 109.0926\n",
            "Epoch 23/100\n",
            "273/273 [==============================] - 1s 2ms/step - loss: 83.8498 - val_loss: 110.6162\n",
            "Epoch 24/100\n",
            "273/273 [==============================] - 0s 2ms/step - loss: 81.8796 - val_loss: 108.7151\n",
            "Epoch 25/100\n",
            "273/273 [==============================] - 0s 2ms/step - loss: 80.7794 - val_loss: 109.8098\n",
            "Epoch 26/100\n",
            "273/273 [==============================] - 0s 2ms/step - loss: 79.7757 - val_loss: 111.8682\n",
            "Epoch 27/100\n",
            "273/273 [==============================] - 1s 2ms/step - loss: 78.7064 - val_loss: 111.0665\n",
            "Epoch 28/100\n",
            "273/273 [==============================] - 0s 2ms/step - loss: 77.4415 - val_loss: 111.0187\n",
            "Epoch 29/100\n",
            "273/273 [==============================] - 1s 2ms/step - loss: 76.4930 - val_loss: 111.7047\n",
            "Epoch 30/100\n",
            "273/273 [==============================] - 1s 2ms/step - loss: 75.9295 - val_loss: 115.3669\n",
            "Epoch 31/100\n",
            "273/273 [==============================] - 0s 2ms/step - loss: 74.4404 - val_loss: 113.9590\n",
            "Epoch 32/100\n",
            "273/273 [==============================] - 1s 2ms/step - loss: 73.2995 - val_loss: 112.4530\n",
            "Epoch 33/100\n",
            "273/273 [==============================] - 0s 2ms/step - loss: 72.5858 - val_loss: 114.8906\n",
            "Epoch 34/100\n",
            "273/273 [==============================] - 1s 2ms/step - loss: 71.5745 - val_loss: 116.8825\n",
            "Epoch 35/100\n",
            "273/273 [==============================] - 1s 2ms/step - loss: 70.4786 - val_loss: 117.7426\n",
            "Epoch 36/100\n",
            "273/273 [==============================] - 0s 2ms/step - loss: 69.8709 - val_loss: 115.8400\n",
            "Epoch 37/100\n",
            "273/273 [==============================] - 0s 2ms/step - loss: 68.6005 - val_loss: 116.6480\n",
            "Epoch 38/100\n",
            "273/273 [==============================] - 0s 2ms/step - loss: 68.3972 - val_loss: 118.8916\n",
            "Epoch 39/100\n",
            "273/273 [==============================] - 0s 2ms/step - loss: 67.4271 - val_loss: 118.7383\n",
            "Epoch 40/100\n",
            "273/273 [==============================] - 1s 2ms/step - loss: 66.0964 - val_loss: 119.7236\n",
            "Epoch 41/100\n",
            "273/273 [==============================] - 1s 2ms/step - loss: 65.3469 - val_loss: 120.0099\n",
            "Epoch 42/100\n",
            "273/273 [==============================] - 1s 2ms/step - loss: 64.9510 - val_loss: 121.7551\n",
            "Epoch 43/100\n",
            "273/273 [==============================] - 1s 2ms/step - loss: 63.7232 - val_loss: 124.6138\n",
            "Epoch 44/100\n",
            "273/273 [==============================] - 1s 2ms/step - loss: 63.1185 - val_loss: 123.4160\n",
            "Epoch 45/100\n",
            "273/273 [==============================] - 1s 2ms/step - loss: 62.6364 - val_loss: 124.4368\n",
            "Epoch 46/100\n",
            "273/273 [==============================] - 1s 2ms/step - loss: 61.6701 - val_loss: 124.5175\n",
            "Epoch 47/100\n",
            "273/273 [==============================] - 1s 2ms/step - loss: 61.2255 - val_loss: 123.8400\n",
            "Epoch 48/100\n",
            "273/273 [==============================] - 0s 2ms/step - loss: 59.9751 - val_loss: 125.2663\n",
            "Epoch 49/100\n",
            "273/273 [==============================] - 0s 2ms/step - loss: 59.5619 - val_loss: 126.6199\n",
            "Epoch 50/100\n",
            "273/273 [==============================] - 0s 2ms/step - loss: 59.2124 - val_loss: 127.0639\n",
            "Epoch 51/100\n",
            "273/273 [==============================] - 0s 2ms/step - loss: 58.2529 - val_loss: 126.7121\n",
            "Epoch 52/100\n",
            "273/273 [==============================] - 0s 2ms/step - loss: 57.7485 - val_loss: 127.3702\n",
            "Epoch 53/100\n",
            "273/273 [==============================] - 0s 2ms/step - loss: 57.1592 - val_loss: 130.1575\n",
            "Epoch 54/100\n",
            "273/273 [==============================] - 0s 2ms/step - loss: 56.3274 - val_loss: 128.7569\n",
            "Epoch 55/100\n",
            "273/273 [==============================] - 0s 2ms/step - loss: 56.0864 - val_loss: 130.0835\n",
            "Epoch 56/100\n",
            "273/273 [==============================] - 0s 2ms/step - loss: 55.7634 - val_loss: 131.3718\n",
            "Epoch 57/100\n",
            "273/273 [==============================] - 0s 2ms/step - loss: 55.3363 - val_loss: 131.5620\n",
            "Epoch 58/100\n",
            "273/273 [==============================] - 0s 2ms/step - loss: 54.2841 - val_loss: 135.4787\n",
            "Epoch 59/100\n",
            "273/273 [==============================] - 0s 2ms/step - loss: 53.5981 - val_loss: 133.8480\n",
            "Epoch 60/100\n",
            "273/273 [==============================] - 0s 2ms/step - loss: 53.5034 - val_loss: 133.4328\n",
            "Epoch 61/100\n",
            "273/273 [==============================] - 1s 2ms/step - loss: 52.9773 - val_loss: 134.6202\n",
            "Epoch 62/100\n",
            "273/273 [==============================] - 1s 2ms/step - loss: 52.1447 - val_loss: 135.9396\n",
            "Epoch 63/100\n",
            "273/273 [==============================] - 0s 2ms/step - loss: 51.7868 - val_loss: 136.4291\n",
            "Epoch 64/100\n",
            "273/273 [==============================] - 0s 2ms/step - loss: 51.3450 - val_loss: 141.3248\n",
            "Epoch 65/100\n",
            "273/273 [==============================] - 1s 2ms/step - loss: 51.2516 - val_loss: 138.5523\n",
            "Epoch 66/100\n",
            "273/273 [==============================] - 1s 2ms/step - loss: 50.7463 - val_loss: 138.6669\n",
            "Epoch 67/100\n",
            "273/273 [==============================] - 1s 2ms/step - loss: 49.8537 - val_loss: 138.0006\n",
            "Epoch 68/100\n",
            "273/273 [==============================] - 1s 2ms/step - loss: 49.6439 - val_loss: 138.8427\n",
            "Epoch 69/100\n",
            "273/273 [==============================] - 1s 2ms/step - loss: 49.4497 - val_loss: 141.8876\n",
            "Epoch 70/100\n",
            "273/273 [==============================] - 1s 2ms/step - loss: 49.0937 - val_loss: 140.1783\n",
            "Epoch 71/100\n",
            "273/273 [==============================] - 1s 2ms/step - loss: 48.4334 - val_loss: 141.5226\n",
            "Epoch 72/100\n",
            "273/273 [==============================] - 1s 2ms/step - loss: 48.3509 - val_loss: 142.2209\n",
            "Epoch 73/100\n",
            "273/273 [==============================] - 1s 3ms/step - loss: 47.2027 - val_loss: 143.6804\n",
            "Epoch 74/100\n",
            "273/273 [==============================] - 1s 2ms/step - loss: 46.9998 - val_loss: 143.5346\n",
            "Epoch 75/100\n",
            "273/273 [==============================] - 0s 2ms/step - loss: 47.1034 - val_loss: 142.1575\n",
            "Epoch 76/100\n",
            "273/273 [==============================] - 1s 2ms/step - loss: 46.4164 - val_loss: 143.0647\n",
            "Epoch 77/100\n",
            "273/273 [==============================] - 0s 2ms/step - loss: 46.4085 - val_loss: 145.5033\n",
            "Epoch 78/100\n",
            "273/273 [==============================] - 1s 2ms/step - loss: 45.9919 - val_loss: 149.0377\n",
            "Epoch 79/100\n",
            "273/273 [==============================] - 1s 2ms/step - loss: 45.7027 - val_loss: 146.3999\n",
            "Epoch 80/100\n",
            "273/273 [==============================] - 1s 2ms/step - loss: 45.0138 - val_loss: 145.6161\n",
            "Epoch 81/100\n",
            "273/273 [==============================] - 1s 3ms/step - loss: 45.0830 - val_loss: 150.3272\n",
            "Epoch 82/100\n",
            "273/273 [==============================] - 0s 2ms/step - loss: 44.2139 - val_loss: 147.4810\n",
            "Epoch 83/100\n",
            "273/273 [==============================] - 0s 2ms/step - loss: 44.2558 - val_loss: 148.7987\n",
            "Epoch 84/100\n",
            "273/273 [==============================] - 0s 2ms/step - loss: 44.0592 - val_loss: 152.9407\n",
            "Epoch 85/100\n",
            "273/273 [==============================] - 0s 2ms/step - loss: 43.7117 - val_loss: 149.9796\n",
            "Epoch 86/100\n",
            "273/273 [==============================] - 0s 2ms/step - loss: 43.2831 - val_loss: 151.7751\n",
            "Epoch 87/100\n",
            "273/273 [==============================] - 0s 2ms/step - loss: 42.9013 - val_loss: 151.4279\n",
            "Epoch 88/100\n",
            "273/273 [==============================] - 0s 2ms/step - loss: 43.1304 - val_loss: 154.0835\n",
            "Epoch 89/100\n",
            "273/273 [==============================] - 0s 2ms/step - loss: 42.9308 - val_loss: 151.9521\n",
            "Epoch 90/100\n",
            "273/273 [==============================] - 1s 2ms/step - loss: 42.6986 - val_loss: 152.7846\n",
            "Epoch 91/100\n",
            "273/273 [==============================] - 0s 2ms/step - loss: 42.0700 - val_loss: 154.9596\n",
            "Epoch 92/100\n",
            "273/273 [==============================] - 1s 2ms/step - loss: 42.0164 - val_loss: 154.2541\n",
            "Epoch 93/100\n",
            "273/273 [==============================] - 0s 2ms/step - loss: 42.1060 - val_loss: 156.6720\n",
            "Epoch 94/100\n",
            "273/273 [==============================] - 1s 2ms/step - loss: 41.7157 - val_loss: 154.8454\n",
            "Epoch 95/100\n",
            "273/273 [==============================] - 0s 2ms/step - loss: 40.9751 - val_loss: 156.8987\n",
            "Epoch 96/100\n",
            "273/273 [==============================] - 0s 2ms/step - loss: 41.0625 - val_loss: 155.3313\n",
            "Epoch 97/100\n",
            "273/273 [==============================] - 0s 2ms/step - loss: 40.7495 - val_loss: 156.5243\n",
            "Epoch 98/100\n",
            "273/273 [==============================] - 0s 2ms/step - loss: 40.7409 - val_loss: 157.4931\n",
            "Epoch 99/100\n",
            "273/273 [==============================] - 0s 2ms/step - loss: 40.2484 - val_loss: 158.7068\n",
            "Epoch 100/100\n",
            "273/273 [==============================] - 0s 2ms/step - loss: 40.8453 - val_loss: 157.2087\n"
          ],
          "name": "stdout"
        }
      ]
    },
    {
      "cell_type": "code",
      "metadata": {
        "id": "OLVJ3pBhinxX",
        "outputId": "3a62a00c-5f24-4263-8b17-c60d783b0d13",
        "colab": {
          "base_uri": "https://localhost:8080/",
          "height": 283
        }
      },
      "source": [
        "plot_loss(history)"
      ],
      "execution_count": 49,
      "outputs": [
        {
          "output_type": "display_data",
          "data": {
            "image/png": "[encoded data removed]",
            "text/plain": [
              "<Figure size 432x288 with 1 Axes>"
            ]
          },
          "metadata": {
            "tags": [],
            "needs_background": "light"
          }
        }
      ]
    },
    {
      "cell_type": "code",
      "metadata": {
        "id": "jJVdL54njGyw"
      },
      "source": [
        ""
      ],
      "execution_count": null,
      "outputs": []
    }
  ]
}